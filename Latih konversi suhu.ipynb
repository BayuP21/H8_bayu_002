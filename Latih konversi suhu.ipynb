{
 "cells": [
  {
   "cell_type": "code",
   "execution_count": 3,
   "id": "0a0c2ec5",
   "metadata": {},
   "outputs": [
    {
     "name": "stdout",
     "output_type": "stream",
     "text": [
      "Konversi Suhu Kelvin Ke Celcius\n",
      "masukan bilangan :100\n",
      "Hasilnya\n",
      "100 Celcius Sama Nilainya Dengan 373 Kelvin\n"
     ]
    }
   ],
   "source": [
    "print(\"Konversi Suhu Kelvin Ke Celcius\")\n",
    "a = int(input('masukan bilangan :'))\n",
    "k = a+273\n",
    "print(\"Hasilnya\")\n",
    "print(a,'Celcius Sama Nilainya Dengan',k , 'Kelvin')"
   ]
  },
  {
   "cell_type": "code",
   "execution_count": 4,
   "id": "dca78f27",
   "metadata": {},
   "outputs": [
    {
     "name": "stdout",
     "output_type": "stream",
     "text": [
      "Konversi Suhu Celcius Ke Kelvin\n",
      "masukan bilangan :373\n",
      "Hasilnya\n",
      "373 Kelvin Sama Nilainya Dengan 100 Celcius\n"
     ]
    }
   ],
   "source": [
    "print(\"Konversi Suhu Celcius Ke Kelvin\")\n",
    "k = int(input('masukan bilangan :'))\n",
    "a = k-273\n",
    "print(\"Hasilnya\")\n",
    "print(k,'Kelvin Sama Nilainya Dengan',a , 'Celcius')"
   ]
  },
  {
   "cell_type": "code",
   "execution_count": 5,
   "id": "8ab85ad3",
   "metadata": {},
   "outputs": [
    {
     "name": "stdout",
     "output_type": "stream",
     "text": [
      "Konversi Suhu Ke fahrenheit\n",
      "masukan bilangan :100\n",
      "Hasilnya\n",
      "100 Celcius Sama Nilainya Dengan 212.0 fahrenheit\n"
     ]
    }
   ],
   "source": [
    "print(\"Konversi Suhu Ke fahrenheit\")\n",
    "a = int(input('masukan bilangan :'))\n",
    "b = int(input('masukan bilangan :'))\n",
    "f = (1.8*a)+32\n",
    "f = \n",
    "print(\"Hasilnya\")\n",
    "print(a,'Celcius Sama Nilainya Dengan',f , 'fahrenheit')\n",
    "print(b,'Kelvin Sama Nilainya Dengan',f , 'fahrenheit')"
   ]
  },
  {
   "cell_type": "code",
   "execution_count": null,
   "id": "e13bfdd4",
   "metadata": {},
   "outputs": [],
   "source": []
  }
 ],
 "metadata": {
  "kernelspec": {
   "display_name": "Python 3",
   "language": "python",
   "name": "python3"
  },
  "language_info": {
   "codemirror_mode": {
    "name": "ipython",
    "version": 3
   },
   "file_extension": ".py",
   "mimetype": "text/x-python",
   "name": "python",
   "nbconvert_exporter": "python",
   "pygments_lexer": "ipython3",
   "version": "3.8.8"
  }
 },
 "nbformat": 4,
 "nbformat_minor": 5
}
